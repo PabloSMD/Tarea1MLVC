{
 "cells": [
  {
   "cell_type": "code",
   "execution_count": null,
   "metadata": {},
   "outputs": [],
   "source": [
    "import numpy as np \n",
    "import cv2\n",
    "import glob\n",
    "import os\n",
    "import matplotlib.pyplot as plt\n",
    "import string\n",
    "from mlxtend.plotting import plot_decision_regions\n",
    "from mpl_toolkits.mplot3d import Axes3D\n",
    "from sklearn.decomposition import PCA\n",
    "from sklearn.preprocessing import StandardScaler\n",
    "from sklearn.neighbors import KNeighborsClassifier\n",
    "from sklearn.tree import DecisionTreeClassifier \n",
    "from sklearn.model_selection import train_test_split, cross_val_score\n",
    "from sklearn.utils.multiclass import unique_labels\n",
    "from sklearn import metrics\n",
    "from sklearn.svm import SVC\n",
    "\n",
    "print(os.listdir(\"/Users/pablo/Desktop/archivo/\"))\n",
    "dim = 100\n"
   ]
  },
  {
   "cell_type": "code",
   "execution_count": null,
   "metadata": {},
   "outputs": [],
   "source": [
    "def getAnimales(animales, data_type, print_n=False, k_fold=False):\n",
    "    images = []\n",
    "    labels = []\n",
    "    val = ['Entrenamiento', 'Testing']\n",
    "    if not k_fold:\n",
    "        path = \"/Users/pablo/Desktop/archivo/animals/\" + data_type + \"/\"\n",
    "        for i,f in enumerate(animales):\n",
    "            p = path + f\n",
    "            j=0\n",
    "            for image_path in glob.glob(os.path.join(p, \"*.jpg\")):\n",
    "                image = cv2.imread(image_path, cv2.IMREAD_COLOR)\n",
    "                image = cv2.resize(image, (dim, dim))\n",
    "                image = cv2.cvtColor(image, cv2.COLOR_RGB2BGR)\n",
    "                images.append(image)\n",
    "                labels.append(i)\n",
    "                j+=1\n",
    "            if(print_n):\n",
    "                print(\"Existen \" , j , \" imágenes de  \" , data_type.upper(), \" de \" , animales[i].upper())\n",
    "        images = np.array(images)\n",
    "        labels = np.array(labels)\n",
    "        return images, labels\n",
    "    else:\n",
    "        for v in val:\n",
    "            path = \"/Users/pablo/Desktop/archivo/animals/\" + v + \"/\"\n",
    "            for i,f in enumerate(animales):\n",
    "                p = path + f\n",
    "                j=0\n",
    "                for image_path in glob.glob(os.path.join(p, \"*.jpg\")):\n",
    "                    image = cv2.imread(image_path, cv2.IMREAD_COLOR)\n",
    "                    image = cv2.resize(image, (dim, dim))\n",
    "                    image = cv2.cvtColor(image, cv2.COLOR_RGB2BGR)\n",
    "                    images.append(image)\n",
    "                    labels.append(i)\n",
    "                    j+=1\n",
    "        images = np.array(images)\n",
    "        labels = np.array(labels)\n",
    "        return images, labels\n",
    "    \n",
    "def getAllAnimales():\n",
    "    animales = []\n",
    "    for animal_path in glob.glob(\"/Users/pablo/Desktop/archivo/animals/Entrenamiento/*\"):\n",
    "        animal = animal_path.split(\"/\")[-1]\n",
    "        animales.append(animal)\n",
    "    return animales\n"
   ]
  },
  {
   "cell_type": "code",
   "execution_count": null,
   "metadata": {},
   "outputs": [],
   "source": [
    "#Escoge tus animales\n",
    "animales = ['leopard' , 'antelope'] # Clasificación binaria\n",
    "\n",
    "#Get Images and Labels \n",
    "X_t, y_train =  getAnimales(animales, 'Entrenamiento', print_n=True, k_fold=False)\n",
    "X_test, y_test = getAnimales(animales, 'Testing', print_n=True, k_fold=False)\n",
    "\n",
    "#Get data for k-fold\n",
    "X,y = getAnimales(animales, '', print_n=True, k_fold=True)\n",
    "\n",
    "#Scale Data Images\n",
    "scaler = StandardScaler()\n",
    "X_train = scaler.fit_transform([i.flatten() for i in X_t])\n",
    "X_test = scaler.fit_transform([i.flatten() for i in X_test])\n",
    "X = scaler.fit_transform([i.flatten() for i in X])"
   ]
  },
  {
   "cell_type": "code",
   "execution_count": null,
   "metadata": {},
   "outputs": [],
   "source": [
    "def plot_image_grid(images, nb_rows, nb_cols, figsize=(15, 15)):\n",
    "    assert len(images) == nb_rows*nb_cols, \"Number of images should be the same as (nb_rows*nb_cols)\"\n",
    "    fig, axs = plt.subplots(nb_rows, nb_cols, figsize=figsize)\n",
    "    \n",
    "    n = 0\n",
    "    for i in range(0, nb_rows):\n",
    "        for j in range(0, nb_cols):\n",
    "            axs[i, j].axis('off')\n",
    "            axs[i, j].imshow(images[n])\n",
    "            n += 1        "
   ]
  },
  {
   "cell_type": "code",
   "execution_count": null,
   "metadata": {},
   "outputs": [],
   "source": [
    "print(animales[y_train[0]])\n",
    "plot_image_grid(X_t[0:50], 5, 10)"
   ]
  },
  {
   "cell_type": "code",
   "execution_count": null,
   "metadata": {},
   "outputs": [],
   "source": [
    "print(animales[y_train[50]])\n",
    "plot_image_grid(X_t[50:100], 5, 10)"
   ]
  },
  {
   "cell_type": "code",
   "execution_count": null,
   "metadata": {},
   "outputs": [],
   "source": [
    "def getClassNumber(y):\n",
    "    v =[]\n",
    "    i=0\n",
    "    count = 0\n",
    "    for index in y:\n",
    "        if(index == i):\n",
    "            count +=1\n",
    "        else:\n",
    "            v.append(count)\n",
    "            count = 1\n",
    "            i +=1\n",
    "    v.append(count)        \n",
    "    return v\n",
    "\n",
    "def plotPrincipalComponents(X, dim):\n",
    "    v = getClassNumber(y_train)\n",
    "    colors = 'b', 'g', 'r', 'c', 'm', 'y', 'k', 'grey', 'orange', 'purple'\n",
    "    markers = ['o', 'x' , 'v', 'd']\n",
    "    tot = len(X)\n",
    "    start = 0\n",
    "    if(dim == 2):\n",
    "        for i,index in enumerate(v):\n",
    "            end = start + index\n",
    "            plt.scatter(X[start:end,0],X[start:end,1] , color=colors[i%len(colors)], marker=markers[i%len(markers)], label = animales[i])\n",
    "            start = end\n",
    "        plt.xlabel('PC1')\n",
    "        plt.ylabel('PC2')\n",
    "   \n",
    "    if(dim == 3):\n",
    "        fig = plt.figure()\n",
    "        ax = fig.add_subplot(111, projection='3d')\n",
    "        for i,index in enumerate(v):\n",
    "            end = start + index\n",
    "            ax.scatter(X[start:end,0], X[start:end,1], X[start:end,2], color=colors[i%len(colors)], marker=markers[i%len(markers)], label = animales[i])\n",
    "            start = end\n",
    "        ax.set_xlabel('PC1')\n",
    "        ax.set_ylabel('PC2')\n",
    "        ax.set_zlabel('PC3')\n",
    "\n",
    "\n",
    "    plt.legend(loc='lower left')\n",
    "    plt.xticks()\n",
    "    plt.yticks()\n",
    "    plt.show()\n",
    "\n",
    "def plot_confusion_matrix(y_true, y_pred, classes,\n",
    "                          normalize=False,\n",
    "                          title=None,\n",
    "                          cmap=plt.cm.Blues):\n",
    "    \"\"\"\n",
    "    This function prints and plots the confusion matrix.\n",
    "    Normalization can be applied by setting `normalize=True`.\n",
    "    \"\"\"\n",
    "    if not title:\n",
    "        if normalize:\n",
    "            title = 'Normalized confusion matrix'\n",
    "        else:\n",
    "            title = 'Confusion matrix, without normalization'\n",
    "\n",
    "    # Compute confusion matrix\n",
    "    cm = metrics.confusion_matrix(y_true, y_pred)\n",
    "    # Only use the labels that appear in the data\n",
    "    classes = unique_labels(y_true, y_pred)\n",
    "    if normalize:\n",
    "        cm = cm.astype('float') / cm.sum(axis=1)[:, np.newaxis]\n",
    "\n",
    "    fig, ax = plt.subplots()\n",
    "    im = ax.imshow(cm, interpolation='nearest', cmap=cmap)\n",
    "    ax.figure.colorbar(im, ax=ax)\n",
    "    # We want to show all ticks...\n",
    "    ax.set(xticks=np.arange(cm.shape[1]),\n",
    "           yticks=np.arange(cm.shape[0]),\n",
    "           # ... and label them with the respective list entries\n",
    "           xticklabels=animales, yticklabels=animales,\n",
    "           title=title,\n",
    "           ylabel='True label',\n",
    "           xlabel='Predicted label')\n",
    "\n",
    "    # Rotate the tick labels and set their alignment.\n",
    "    plt.setp(ax.get_xticklabels(), rotation=45, ha=\"right\",\n",
    "             rotation_mode=\"anchor\")\n",
    "\n",
    "    # Loop over data dimensions and create text annotations.\n",
    "    fmt = '.2f' if normalize else 'd'\n",
    "    thresh = cm.max() / 2.\n",
    "    for i in range(cm.shape[0]):\n",
    "        for j in range(cm.shape[1]):\n",
    "            ax.text(j, i, format(cm[i, j], fmt),\n",
    "                    ha=\"center\", va=\"center\",\n",
    "                    color=\"white\" if cm[i, j] > thresh else \"black\")\n",
    "    fig.tight_layout()\n",
    "    return cm,ax"
   ]
  },
  {
   "cell_type": "code",
   "execution_count": null,
   "metadata": {},
   "outputs": [],
   "source": [
    "pca = PCA(n_components=2)\n",
    "dataIn2D = pca.fit_transform(X_train)\n",
    "plotPrincipalComponents(dataIn2D, 2)"
   ]
  },
  {
   "cell_type": "code",
   "execution_count": null,
   "metadata": {},
   "outputs": [],
   "source": [
    "pca = PCA(n_components=3)\n",
    "dataIn3D = pca.fit_transform(X_train)\n",
    "plotPrincipalComponents(dataIn3D, 3)"
   ]
  },
  {
   "cell_type": "code",
   "execution_count": null,
   "metadata": {},
   "outputs": [],
   "source": [
    "######        IMPLEMENTACIÓN DE ALGORITMO SVM        ######"
   ]
  },
  {
   "cell_type": "code",
   "execution_count": null,
   "metadata": {},
   "outputs": [],
   "source": [
    "svm = SVC(gamma='auto', kernel='linear', probability=True)\n",
    "svm.fit(X_train, y_train)\n",
    "y_pred = svm.predict(X_test)\n",
    "\n",
    "#Evaluation\n",
    "precision = metrics.accuracy_score(y_pred, y_test) * 100\n",
    "print(\"Accuracy with SVM: {0:.2f}%\".format(precision))\n",
    "cm , _ = plot_confusion_matrix(y_test, y_pred,classes=y_train,\n",
    "normalize=True, title='Normalized confusion matrix')\n",
    "plt.show()\n",
    "\n",
    "# calculate the FPR and TPR for all thresholds of the classification\n",
    "probs = svm.predict_proba(X_test)\n",
    "probs = probs[:, 1]\n",
    "svm_fpr, svm_tpr, thresholds = metrics.roc_curve(y_test, probs)\n",
    "svm_auc = metrics.roc_auc_score(y_test, probs)"
   ]
  },
  {
   "cell_type": "code",
   "execution_count": null,
   "metadata": {},
   "outputs": [],
   "source": [
    "pred_kfold = cross_val_score(svm, X, y, cv=5)\n",
    "print(\"Accuracy with SVM and K-FOLD CROSS VALIDATION: %0.2f (+/- %0.2f)\" % (pred_kfold.mean(), pred_kfold.std() * 2)) \n"
   ]
  },
  {
   "cell_type": "code",
   "execution_count": null,
   "metadata": {},
   "outputs": [],
   "source": [
    "######        IMPLEMENTACIÓN DE ALGORITMO KNN         ######"
   ]
  },
  {
   "cell_type": "code",
   "execution_count": null,
   "metadata": {},
   "outputs": [],
   "source": [
    "knn = KNeighborsClassifier(n_neighbors=2)\n",
    "knn.fit(X_train, y_train)\n",
    "y_pred = knn.predict(X_test)\n",
    "\n",
    "#Evaluation\n",
    "precision = metrics.accuracy_score(y_pred, y_test) * 100\n",
    "print(\"Accuracy with K-NN: {0:.2f}%\".format(precision))\n",
    "cm , _ = plot_confusion_matrix(y_test, y_pred, classes=y_train, normalize=True, title='Normalizedconfusion matrix')\n",
    "plt.show()\n",
    "\n",
    "# calculate the FPR and TPR for all thresholds of the classification\n",
    "probs = knn.predict_proba(X_test)\n",
    "probs = probs[:, 1]\n",
    "knn_fpr, knn_tpr, thresholds = metrics.roc_curve(y_test, probs)\n",
    "knn_auc = metrics.roc_auc_score(y_test, probs)\n"
   ]
  },
  {
   "cell_type": "code",
   "execution_count": null,
   "metadata": {},
   "outputs": [],
   "source": [
    "#KNN + K-FOLD\n",
    "pred_kfold = cross_val_score(knn, X, y, cv=5)\n",
    "print(\"Accuracy with K-NN and K-FOLD CROSS VALIDATION: %0.2f (+/- %0.2f)\" %\n",
    "(pred_kfold.mean(), pred_kfold.std() * 2))"
   ]
  },
  {
   "cell_type": "code",
   "execution_count": null,
   "metadata": {},
   "outputs": [],
   "source": [
    "######        IMPLEMENTACIÓN DE ALGORITMO ÁRBOL DE DECISIÓN       ######"
   ]
  },
  {
   "cell_type": "code",
   "execution_count": null,
   "metadata": {},
   "outputs": [],
   "source": [
    "tree = DecisionTreeClassifier()\n",
    "tree = tree.fit(X_train,y_train)\n",
    "y_pred = tree.predict(X_test)\n",
    "\n",
    "#Evaluation\n",
    "precision = metrics.accuracy_score(y_pred, y_test) * 100\n",
    "print(\"Accuracy with Decision Tree: {0:.2f}%\".format(precision))\n",
    "cm , _ = plot_confusion_matrix(y_test, y_pred, classes=y_train, normalize=True, title='Normalized confusion matrix')\n",
    "plt.show()\n",
    "\n",
    "# calculate the FPR and TPR for all thresholds of the classification\n",
    "probs = tree.predict_proba(X_test)\n",
    "probs = probs[:, 1]\n",
    "tree_fpr, tree_tpr, thresholds = metrics.roc_curve(y_test, probs)\n",
    "tree_auc = metrics.roc_auc_score(y_test, probs)"
   ]
  },
  {
   "cell_type": "code",
   "execution_count": null,
   "metadata": {},
   "outputs": [],
   "source": [
    "#DECISION TREE + K-FOLD\n",
    "pred_kfold = cross_val_score(tree, X, y, cv=5) \n",
    "print(\"Accuracy with DECISION TREE and K-FOLD CROSS VALIDATION: %0.2f (+/- %0.2f)\" % (pred_kfold.mean(), pred_kfold.std() * 2))"
   ]
  },
  {
   "cell_type": "code",
   "execution_count": null,
   "metadata": {},
   "outputs": [],
   "source": [
    "#### CARACTERÍSTICAS OPERATIVAS DEL RECEPTOR #### "
   ]
  },
  {
   "cell_type": "code",
   "execution_count": null,
   "metadata": {},
   "outputs": [],
   "source": [
    "#ROC CURVE\n",
    "plt.title('ROC Curve')\n",
    "plt.plot([0, 1], [0, 1], linestyle='--')\n",
    "plt.plot(svm_fpr, svm_tpr, 'b', marker='.', label = 'SVM = %0.3f' % svm_auc )\n",
    "plt.plot(knn_fpr, knn_tpr, 'g', marker='.', label = 'KNN = %0.3f' % knn_auc)\n",
    "plt.plot(tree_fpr, tree_tpr, 'r', marker='.',label = 'ARBOL DE DECISIÓN = %.3f' % tree_auc)\n",
    "plt.legend(loc = 'lower right')\n",
    "plt.ylabel('True Positive Rate')\n",
    "plt.xlabel('False Positive Rate')\n",
    "plt.show()"
   ]
  }
 ],
 "metadata": {
  "kernelspec": {
   "display_name": "Python 3.10.8 64-bit (microsoft store)",
   "language": "python",
   "name": "python3"
  },
  "language_info": {
   "codemirror_mode": {
    "name": "ipython",
    "version": 3
   },
   "file_extension": ".py",
   "mimetype": "text/x-python",
   "name": "python",
   "nbconvert_exporter": "python",
   "pygments_lexer": "ipython3",
   "version": "3.10.8"
  },
  "orig_nbformat": 4,
  "vscode": {
   "interpreter": {
    "hash": "ec720a58500d11de0e5fc5c48be65fb39602b083ac27e2ae1aeca7536607724c"
   }
  }
 },
 "nbformat": 4,
 "nbformat_minor": 2
}
